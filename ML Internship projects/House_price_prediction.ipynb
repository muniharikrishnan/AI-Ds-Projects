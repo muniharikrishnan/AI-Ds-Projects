{
  "nbformat": 4,
  "nbformat_minor": 0,
  "metadata": {
    "colab": {
      "private_outputs": true,
      "provenance": []
    },
    "kernelspec": {
      "name": "python3",
      "display_name": "Python 3"
    },
    "language_info": {
      "name": "python"
    }
  },
  "cells": [
    {
      "cell_type": "code",
      "execution_count": null,
      "metadata": {
        "id": "-5LFqGeWYfQ8"
      },
      "outputs": [],
      "source": [
        "#task 1 house price prediction\n",
        "import pandas as pd\n",
        "from sklearn.model_selection import train_test_split\n",
        "from sklearn.linear_model import LinearRegression\n",
        "from sklearn.metrics import mean_squared_error\n",
        "\n",
        "\n",
        "data = pd.read_csv(\"/content/Housing.csv\")\n",
        "\n",
        "\n",
        "data = pd.get_dummies(data)\n",
        "\n",
        "\n",
        "X = data.drop(columns=[\"price\"])\n",
        "y = data[\"price\"]\n",
        "\n",
        "X_train, X_test, y_train, y_test = train_test_split(X, y, test_size=0.2, random_state=42)\n",
        "\n",
        "\n",
        "model = LinearRegression()\n",
        "\n",
        "\n",
        "model.fit(X_train, y_train)\n",
        "\n",
        "\n",
        "predictions = model.predict(X_test)\n",
        "\n",
        "\n",
        "for i, pred in enumerate(predictions):\n",
        "    print(f\"Predicted house price for sample {i+1}: ${pred:.2f}\")\n",
        "\n",
        "\n",
        "mse = mean_squared_error(y_test, predictions)\n",
        "print(\"Mean Squared Error:\", mse)"
      ]
    }
  ]
}